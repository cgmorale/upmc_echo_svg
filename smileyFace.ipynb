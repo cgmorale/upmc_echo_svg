{
 "cells": [
  {
   "cell_type": "code",
   "execution_count": 2,
   "id": "9b2acaff",
   "metadata": {},
   "outputs": [],
   "source": [
    "import cairo\n",
    "from IPython.display import Image, display\n",
    "from math import pi\n",
    "from io import BytesIO\n",
    "import math"
   ]
  },
  {
   "cell_type": "markdown",
   "id": "d2f91e30",
   "metadata": {},
   "source": [
    "# Create synthetic data for GAN. "
   ]
  },
  {
   "cell_type": "code",
   "execution_count": 17,
   "id": "d71e1fb6",
   "metadata": {},
   "outputs": [
    {
     "data": {
      "image/png": "[encoded data removed]",
      "text/plain": [
       "<IPython.core.display.Image object>"
      ]
     },
     "metadata": {
      "image/png": {
       "width": 450
      }
     },
     "output_type": "display_data"
    }
   ],
   "source": [
    "width =450\n",
    "height = 450\n",
    "\n",
    "with cairo.SVGSurface('smiley' + \".svg\", width, height) as surface:\n",
    "\n",
    "    # creating a cairo context object\n",
    "    background = cairo.Context(surface)\n",
    "\n",
    "    #create background\n",
    "    background.rectangle(0, 0, width, height)\n",
    "    background.set_source_rgb(0.8, 0.8, 1)\n",
    "    background.fill()\n",
    "\n",
    "    context = cairo.Context(surface)\n",
    "\n",
    "    #create face\n",
    "    context.arc(width/2, height/2, 200, 0, 2 * pi)\n",
    "    context.set_source_rgb(1, 1, 0)\n",
    "    context.fill()\n",
    "    \n",
    "    #draw the curve for the smile\n",
    "    x1,y1 = 80, 280\n",
    "    x3,y3 = 365, y1\n",
    "    x2,y2 = x1+((x3-x1)/2) ,450\n",
    "\n",
    "    context.curve_to(x1,y1, x2,y2,x3,y3)\n",
    "    context.set_source_rgb(0,0,0)\n",
    "    context.close_path()\n",
    "    context.fill()\n",
    "\n",
    "    # creating an ellipse for left eye\n",
    "    context.save()\n",
    "    context.scale(0.7, 1.6)\n",
    "    xL = (width/2) +10\n",
    "    yL = (height/2) -125\n",
    "    context.arc(xL , yL, 30, 0, 2*math.pi)\n",
    "    context.set_source_rgba(0, 0, 0, 1)\n",
    "    context.fill()\n",
    "    context.restore()\n",
    "\n",
    "    context.save()\n",
    "    context.scale(0.7,1.6)\n",
    "    xR = (width/2) +155\n",
    "    yR = (height/2) -125\n",
    "\n",
    "    # creating an ellipse for right eye\n",
    "    context.arc(xR,  yR, 30, 0, 2*math.pi)\n",
    "    context.fill()\n",
    "\n",
    "    # Save as a SVG and PNG\n",
    "    surface.write_to_png('smiley' +'.png')\n",
    "    with BytesIO() as fileobj:\n",
    "        surface.write_to_png(fileobj)\n",
    "        display(Image(fileobj.getvalue(), width=450))"
   ]
  },
  {
   "cell_type": "code",
   "execution_count": null,
   "id": "a9ee1e12",
   "metadata": {},
   "outputs": [],
   "source": []
  }
 ],
 "metadata": {
  "kernelspec": {
   "display_name": "svgProject",
   "language": "python",
   "name": "svgproject"
  },
  "language_info": {
   "codemirror_mode": {
    "name": "ipython",
    "version": 3
   },
   "file_extension": ".py",
   "mimetype": "text/x-python",
   "name": "python",
   "nbconvert_exporter": "python",
   "pygments_lexer": "ipython3",
   "version": "3.8.8"
  }
 },
 "nbformat": 4,
 "nbformat_minor": 5
}
